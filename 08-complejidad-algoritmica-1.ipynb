{
 "cells": [
  {
   "cell_type": "code",
   "execution_count": 1,
   "id": "dcb5eb2b",
   "metadata": {},
   "outputs": [
    {
     "name": "stdout",
     "output_type": "stream",
     "text": [
      "De que tamano sera la lista? 5\n",
      "Que numero quieres encontrar? 3\n",
      "[70, 96, 29, 28, 30]\n",
      "El elemento 3 no esta en la lista\n"
     ]
    }
   ],
   "source": [
    "import random\n",
    "\n",
    "def busqueda_lineal(lista, objetivo):\n",
    "    match = False\n",
    "\n",
    "    for elemento in lista: # O(n)\n",
    "        if elemento == objetivo:\n",
    "            match = True\n",
    "            break\n",
    "\n",
    "    return match\n",
    "\n",
    "\n",
    "\n",
    "tamano_de_lista = int(input('De que tamano sera la lista? '))\n",
    "objetivo = int(input('Que numero quieres encontrar? '))\n",
    "\n",
    "lista = [random.randint(0, 100) for i in range(tamano_de_lista)]\n",
    "\n",
    "encontrado = busqueda_lineal(lista, objetivo)\n",
    "print(lista)\n",
    "print(f'El elemento {objetivo} {\"esta\" if encontrado else \"no esta\"} en la lista')"
   ]
  },
  {
   "cell_type": "code",
   "execution_count": 15,
   "id": "5d672d1f",
   "metadata": {},
   "outputs": [
    {
     "name": "stdout",
     "output_type": "stream",
     "text": [
      "[5, 1, 10]\n"
     ]
    }
   ],
   "source": [
    "lista=[random.randint(0,10) for i in range(3)]    \n",
    "print(lista)\n"
   ]
  },
  {
   "cell_type": "code",
   "execution_count": null,
   "id": "ca5961e0",
   "metadata": {},
   "outputs": [],
   "source": []
  }
 ],
 "metadata": {
  "kernelspec": {
   "display_name": "Python 3 (ipykernel)",
   "language": "python",
   "name": "python3"
  },
  "language_info": {
   "codemirror_mode": {
    "name": "ipython",
    "version": 3
   },
   "file_extension": ".py",
   "mimetype": "text/x-python",
   "name": "python",
   "nbconvert_exporter": "python",
   "pygments_lexer": "ipython3",
   "version": "3.9.12"
  }
 },
 "nbformat": 4,
 "nbformat_minor": 5
}
