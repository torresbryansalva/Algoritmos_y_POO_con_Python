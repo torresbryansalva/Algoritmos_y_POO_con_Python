{
 "cells": [
  {
   "cell_type": "code",
   "execution_count": 3,
   "id": "3a3aa8d4",
   "metadata": {},
   "outputs": [],
   "source": [
    "from bokeh.plotting import figure,output_file,show "
   ]
  },
  {
   "cell_type": "code",
   "execution_count": 4,
   "id": "4005e978",
   "metadata": {
    "scrolled": true
   },
   "outputs": [
    {
     "name": "stdout",
     "output_type": "stream",
     "text": [
      "cuantos valores quieres graficar?10\n",
      "Valor y para 04\n",
      "Valor y para 112\n",
      "Valor y para 24\n",
      "Valor y para 315\n",
      "Valor y para 415\n",
      "Valor y para 55\n",
      "Valor y para 677\n",
      "Valor y para 723\n",
      "Valor y para 845\n",
      "Valor y para 94\n"
     ]
    }
   ],
   "source": [
    "output_file('graficado_simple.html')\n",
    "fig=figure()\n",
    "\n",
    "total_vals=int(input('cuantos valores quieres graficar?'))\n",
    "x_val=list(range(total_vals))\n",
    "y_val=[]\n",
    "\n",
    "for x in x_val:\n",
    "    val=int(input(f'Valor y para {x}'))\n",
    "    y_val.append(val)\n",
    "\n",
    "fig.line(x_val,y_val,line_width=2)\n",
    "show(fig)"
   ]
  },
  {
   "cell_type": "markdown",
   "id": "dc95b762",
   "metadata": {},
   "source": [
    "## Morral\n",
    "El famoso problema  de  morral"
   ]
  },
  {
   "cell_type": "code",
   "execution_count": 5,
   "id": "c1da08d9",
   "metadata": {},
   "outputs": [],
   "source": [
    "def morral(tamano_morral, pesos, valores, n):\n",
    "\n",
    "    if n == 0 or tamano_morral == 0:\n",
    "        return 0\n",
    "\n",
    "    if pesos[n - 1] > tamano_morral:\n",
    "        return morral(tamano_morral, pesos, valores, n - 1)\n",
    "\n",
    "    return max(valores[n - 1] + morral(tamano_morral - pesos[n - 1], pesos, valores, n - 1),\n",
    "                morral(tamano_morral, pesos, valores, n - 1))"
   ]
  },
  {
   "cell_type": "code",
   "execution_count": 8,
   "id": "0702c11e",
   "metadata": {},
   "outputs": [
    {
     "name": "stdout",
     "output_type": "stream",
     "text": [
      "160\n"
     ]
    }
   ],
   "source": [
    "valores = [60, 100, 120]\n",
    "pesos = [10, 20, 30]\n",
    "tamano_morral = 30\n",
    "n = len(valores)\n",
    "    \n",
    "resultado = morral(tamano_morral, pesos, valores, n)\n",
    "print(resultado)"
   ]
  },
  {
   "cell_type": "code",
   "execution_count": null,
   "id": "2d1cabfe",
   "metadata": {},
   "outputs": [],
   "source": []
  }
 ],
 "metadata": {
  "kernelspec": {
   "display_name": "Python 3 (ipykernel)",
   "language": "python",
   "name": "python3"
  },
  "language_info": {
   "codemirror_mode": {
    "name": "ipython",
    "version": 3
   },
   "file_extension": ".py",
   "mimetype": "text/x-python",
   "name": "python",
   "nbconvert_exporter": "python",
   "pygments_lexer": "ipython3",
   "version": "3.9.12"
  }
 },
 "nbformat": 4,
 "nbformat_minor": 5
}
