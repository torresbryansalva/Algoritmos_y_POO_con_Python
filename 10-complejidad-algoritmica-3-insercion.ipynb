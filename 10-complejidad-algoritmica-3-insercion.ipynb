{
 "cells": [
  {
   "cell_type": "code",
   "execution_count": 3,
   "id": "8f8fcd02",
   "metadata": {},
   "outputs": [],
   "source": [
    "import random\n"
   ]
  },
  {
   "cell_type": "code",
   "execution_count": 6,
   "id": "dea91029",
   "metadata": {},
   "outputs": [],
   "source": [
    "def ordenamiento_por_insercion(lista):\n",
    "\n",
    "    for indice in range(1, len(lista)):\n",
    "        valor_actual = lista[indice]\n",
    "        posicion_actual = indice\n",
    "\n",
    "        while posicion_actual > 0 and lista[posicion_actual - 1] > valor_actual:\n",
    "            lista[posicion_actual] = lista[posicion_actual - 1]\n",
    "            posicion_actual -= 1\n",
    "\n",
    "        lista[posicion_actual] = valor_actual\n",
    "    \n",
    "    return lista"
   ]
  },
  {
   "cell_type": "code",
   "execution_count": 12,
   "id": "4ccdc307",
   "metadata": {},
   "outputs": [
    {
     "name": "stdout",
     "output_type": "stream",
     "text": [
      "De que tamano es la lista? 10\n",
      "Lista no ordenada\n",
      "[88, 67, 50, 100, 39, 71, 16, 91, 57, 16]\n",
      "Lista ordenada\n",
      "[16, 16, 39, 50, 57, 67, 71, 88, 91, 100]\n"
     ]
    }
   ],
   "source": [
    "tamano_de_lista = int(input('De que tamano es la lista? '))\n",
    "\n",
    "lista = [random.randint(0, 100) for i in range(tamano_de_lista)]\n",
    "\n",
    "print('Lista no ordenada')\n",
    "print(lista)\n",
    "\n",
    "lista_ordenada =ordenamiento_por_insercion(lista)\n",
    "print('Lista ordenada' )\n",
    "print(lista_ordenada)"
   ]
  },
  {
   "cell_type": "code",
   "execution_count": null,
   "id": "cd457854",
   "metadata": {},
   "outputs": [],
   "source": []
  }
 ],
 "metadata": {
  "kernelspec": {
   "display_name": "Python 3 (ipykernel)",
   "language": "python",
   "name": "python3"
  },
  "language_info": {
   "codemirror_mode": {
    "name": "ipython",
    "version": 3
   },
   "file_extension": ".py",
   "mimetype": "text/x-python",
   "name": "python",
   "nbconvert_exporter": "python",
   "pygments_lexer": "ipython3",
   "version": "3.9.12"
  }
 },
 "nbformat": 4,
 "nbformat_minor": 5
}
