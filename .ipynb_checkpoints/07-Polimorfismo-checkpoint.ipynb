{
 "cells": [
  {
   "cell_type": "code",
   "execution_count": null,
   "id": "9f527d31",
   "metadata": {},
   "outputs": [],
   "source": [
    "class Persona:\n",
    "    \n",
    "    def __init__(self,nombre):\n",
    "        self.nombre=nombre\n",
    "    def avanza(self):\n",
    "        print('Ando caminando')\n",
    "\n",
    "class Ciclista(Persona):\n",
    "    \n",
    "    def __init__(self,nombre):\n",
    "        super().__init__(nombre)\n",
    "    def avanza(self):\n",
    "        print('Ando moviendome en mi bici')\n",
    "    "
   ]
  }
 ],
 "metadata": {
  "kernelspec": {
   "display_name": "Python 3 (ipykernel)",
   "language": "python",
   "name": "python3"
  },
  "language_info": {
   "codemirror_mode": {
    "name": "ipython",
    "version": 3
   },
   "file_extension": ".py",
   "mimetype": "text/x-python",
   "name": "python",
   "nbconvert_exporter": "python",
   "pygments_lexer": "ipython3",
   "version": "3.9.12"
  }
 },
 "nbformat": 4,
 "nbformat_minor": 5
}
