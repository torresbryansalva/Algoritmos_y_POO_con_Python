{
 "cells": [
  {
   "cell_type": "code",
   "execution_count": 6,
   "id": "e710c767",
   "metadata": {},
   "outputs": [],
   "source": [
    "class Casilla_de_Votacion:\n",
    "    def __init__(self,indentificador,pais):\n",
    "        self._indentificador=indentificador\n",
    "        self._pais=pais\n",
    "        self._region=None\n",
    "    \n",
    "    @property # getter\n",
    "    def region(self):\n",
    "        return self._region\n",
    "    \n",
    "    @region.setter\n",
    "    def region(self,region):\n",
    "        if region in self._pais:\n",
    "            self._region=region\n",
    "        else:\n",
    "            raise ValueError(f'La region {region} no es valida en {self._pais}')\n",
    "\n"
   ]
  },
  {
   "cell_type": "code",
   "execution_count": 7,
   "id": "9d46237e",
   "metadata": {},
   "outputs": [
    {
     "name": "stdout",
     "output_type": "stream",
     "text": [
      "None\n"
     ]
    }
   ],
   "source": [
    "casilla=Casilla_de_Votacion(123,['Lima','Amazonas'])\n",
    "print(casilla.region)\n",
    "casilla.region='Lima'\n",
    "print(casilla.region)\n"
   ]
  }
 ],
 "metadata": {
  "kernelspec": {
   "display_name": "Python 3 (ipykernel)",
   "language": "python",
   "name": "python3"
  },
  "language_info": {
   "codemirror_mode": {
    "name": "ipython",
    "version": 3
   },
   "file_extension": ".py",
   "mimetype": "text/x-python",
   "name": "python",
   "nbconvert_exporter": "python",
   "pygments_lexer": "ipython3",
   "version": "3.9.12"
  }
 },
 "nbformat": 4,
 "nbformat_minor": 5
}
