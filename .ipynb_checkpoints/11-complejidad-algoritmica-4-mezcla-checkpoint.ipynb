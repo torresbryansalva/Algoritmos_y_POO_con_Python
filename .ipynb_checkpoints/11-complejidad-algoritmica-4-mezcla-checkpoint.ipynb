{
 "cells": [
  {
   "cell_type": "code",
   "execution_count": 1,
   "id": "4fd681ca",
   "metadata": {},
   "outputs": [],
   "source": [
    "import random\n"
   ]
  },
  {
   "cell_type": "code",
   "execution_count": 8,
   "id": "e381d241",
   "metadata": {},
   "outputs": [],
   "source": [
    "def ordenamiento_por_mezcla(lista):\n",
    "    if len(lista) >1:\n",
    "        medio=len(lista)//2\n",
    "        izquierda=lista[:medio]\n",
    "        derecha=lista[medio:]\n",
    "        \n",
    "        print(izquierda,'*'*5,derechacha)\n",
    "        \n",
    "        #llamada recursiva en cada mitad\n",
    "        ordenamiento_por_mezcla(izquierda)\n",
    "        ordenamiento_por_mezcla(derecha)\n",
    "        \n",
    "        #iteradores para recorrer los dos sublistas\n",
    "        i=0\n",
    "        j=0\n",
    "        \n",
    "        #iterador principal para la lista\n",
    "        k=0\n",
    "        \n",
    "        while i<len(izquierda) and j<len(derecha):\n",
    "            if izquierda[i]<derecha[j]:\n",
    "                lista[k]=izquierda[i]\n",
    "                i=i+1\n",
    "            else:\n",
    "                lista[k]=derecha[j]\n",
    "                j=j+1\n",
    "            k=k+1\n",
    "        \n",
    "        while i<len(izquierda):\n",
    "            lista[k]=izquierda[i]\n",
    "            i=i+1\n",
    "            k=k+1\n",
    "        while j<len(derecha):\n",
    "            lista[k]=derecha[j]\n",
    "            j+=1\n",
    "            k+=1\n",
    "        print(f'izquierda{izquierda}',derecha{derecha})\n",
    "        print(lista)\n",
    "        print('-'*50)\n",
    "        return lista\n",
    "            "
   ]
  },
  {
   "cell_type": "code",
   "execution_count": 9,
   "id": "5416d572",
   "metadata": {},
   "outputs": [
    {
     "name": "stdout",
     "output_type": "stream",
     "text": [
      "ingrese el tamaño de la lista10\n",
      "[23, 24, 15, 34, 84, 94, 42, 26, 80, 81]\n",
      "[15, 23, 24, 26, 34, 42, 80, 81, 84, 94]\n"
     ]
    }
   ],
   "source": [
    "tamano_lista=int(input('ingrese el tamaño de la lista'))\n",
    "\n",
    "lista=[random.randint(0,100)  for i in range(tamano_lista)]\n",
    "print(lista)\n",
    "\n",
    "lista_ordenada=ordenamiento_por_mezcla(lista)\n",
    "print(lista_ordenada)"
   ]
  },
  {
   "cell_type": "code",
   "execution_count": 6,
   "id": "75753467",
   "metadata": {},
   "outputs": [
    {
     "data": {
      "text/plain": [
       "6.5"
      ]
     },
     "execution_count": 6,
     "metadata": {},
     "output_type": "execute_result"
    }
   ],
   "source": []
  },
  {
   "cell_type": "code",
   "execution_count": null,
   "id": "786865d5",
   "metadata": {},
   "outputs": [],
   "source": []
  }
 ],
 "metadata": {
  "kernelspec": {
   "display_name": "Python 3 (ipykernel)",
   "language": "python",
   "name": "python3"
  },
  "language_info": {
   "codemirror_mode": {
    "name": "ipython",
    "version": 3
   },
   "file_extension": ".py",
   "mimetype": "text/x-python",
   "name": "python",
   "nbconvert_exporter": "python",
   "pygments_lexer": "ipython3",
   "version": "3.9.12"
  }
 },
 "nbformat": 4,
 "nbformat_minor": 5
}
