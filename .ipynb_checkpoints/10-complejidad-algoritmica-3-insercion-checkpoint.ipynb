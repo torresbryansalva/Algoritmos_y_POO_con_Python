{
 "cells": [
  {
   "cell_type": "code",
   "execution_count": 3,
   "id": "f1d3efd5",
   "metadata": {},
   "outputs": [],
   "source": [
    "import random\n"
   ]
  },
  {
   "cell_type": "code",
   "execution_count": 6,
   "id": "e0266f30",
   "metadata": {},
   "outputs": [],
   "source": [
    "def ordenamiento_por_insercion(lista):\n",
    "\n",
    "    for indice in range(1, len(lista)):\n",
    "        valor_actual = lista[indice]\n",
    "        posicion_actual = indice\n",
    "\n",
    "        while posicion_actual > 0 and lista[posicion_actual - 1] > valor_actual:\n",
    "            lista[posicion_actual] = lista[posicion_actual - 1]\n",
    "            posicion_actual -= 1\n",
    "\n",
    "        lista[posicion_actual] = valor_actual\n",
    "    \n",
    "    return lista"
   ]
  },
  {
   "cell_type": "code",
   "execution_count": 10,
   "id": "9e120378",
   "metadata": {},
   "outputs": [
    {
     "ename": "SyntaxError",
     "evalue": "invalid syntax (3604213795.py, line 5)",
     "output_type": "error",
     "traceback": [
      "\u001b[1;36m  Input \u001b[1;32mIn [10]\u001b[1;36m\u001b[0m\n\u001b[1;33m    print('Lista no ordenada '{lista})\u001b[0m\n\u001b[1;37m                              ^\u001b[0m\n\u001b[1;31mSyntaxError\u001b[0m\u001b[1;31m:\u001b[0m invalid syntax\n"
     ]
    }
   ],
   "source": [
    "tamano_de_lista = int(input('De que tamano es la lista? '))\n",
    "\n",
    "lista = [random.randint(0, 100) for i in range(tamano_de_lista)]\n",
    "\n",
    "print('Lista no ordenada')\n",
    "print(lista)\n",
    "\n",
    "lista_ordenada =ordenamiento_por_insercion(lista)\n",
    "print('Lista ordenada' {lista_ordenada})\n",
    "print(lista_ordenada)"
   ]
  },
  {
   "cell_type": "code",
   "execution_count": null,
   "id": "d6c53cb4",
   "metadata": {},
   "outputs": [],
   "source": []
  }
 ],
 "metadata": {
  "kernelspec": {
   "display_name": "Python 3 (ipykernel)",
   "language": "python",
   "name": "python3"
  },
  "language_info": {
   "codemirror_mode": {
    "name": "ipython",
    "version": 3
   },
   "file_extension": ".py",
   "mimetype": "text/x-python",
   "name": "python",
   "nbconvert_exporter": "python",
   "pygments_lexer": "ipython3",
   "version": "3.9.12"
  }
 },
 "nbformat": 4,
 "nbformat_minor": 5
}
