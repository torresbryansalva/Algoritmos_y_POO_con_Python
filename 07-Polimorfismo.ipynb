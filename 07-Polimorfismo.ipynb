{
 "cells": [
  {
   "cell_type": "code",
   "execution_count": 2,
   "id": "389f9a24",
   "metadata": {},
   "outputs": [],
   "source": [
    "class Persona:\n",
    "    \n",
    "    def __init__(self,nombre):\n",
    "        self.nombre=nombre\n",
    "    def avanza(self):\n",
    "        print('Ando caminando')\n",
    "\n",
    "class Ciclista(Persona):\n",
    "    \n",
    "    def __init__(self,nombre):\n",
    "        super().__init__(nombre)\n",
    "    def avanza(self):\n",
    "        print('Ando moviendome en mi bici')\n",
    "    "
   ]
  },
  {
   "cell_type": "code",
   "execution_count": 3,
   "id": "f39520f7",
   "metadata": {},
   "outputs": [
    {
     "name": "stdout",
     "output_type": "stream",
     "text": [
      "Ando caminando\n",
      "Ando moviendome en mi bici\n"
     ]
    }
   ],
   "source": [
    "persona1=Persona('David')\n",
    "persona1.avanza()\n",
    "persona2=Ciclista('Maria')\n",
    "persona2.avanza()"
   ]
  },
  {
   "cell_type": "code",
   "execution_count": null,
   "id": "2e932385",
   "metadata": {},
   "outputs": [],
   "source": []
  }
 ],
 "metadata": {
  "kernelspec": {
   "display_name": "Python 3 (ipykernel)",
   "language": "python",
   "name": "python3"
  },
  "language_info": {
   "codemirror_mode": {
    "name": "ipython",
    "version": 3
   },
   "file_extension": ".py",
   "mimetype": "text/x-python",
   "name": "python",
   "nbconvert_exporter": "python",
   "pygments_lexer": "ipython3",
   "version": "3.9.12"
  }
 },
 "nbformat": 4,
 "nbformat_minor": 5
}
