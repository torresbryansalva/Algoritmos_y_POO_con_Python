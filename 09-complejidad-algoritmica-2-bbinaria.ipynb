{
 "cells": [
  {
   "cell_type": "code",
   "execution_count": 1,
   "id": "1fd83a16",
   "metadata": {},
   "outputs": [],
   "source": [
    "import random\n",
    "\n",
    "def busqueda_binaria(lista, comienzo, final, objetivo):\n",
    "    print(f'buscando {objetivo} entre {lista[comienzo]} y {lista[final - 1]}')\n",
    "    if comienzo > final:\n",
    "        return False\n",
    "\n",
    "    medio = (comienzo + final) // 2\n",
    "\n",
    "    if lista[medio] == objetivo:\n",
    "        return True\n",
    "    elif lista[medio] < objetivo:\n",
    "        return busqueda_binaria(lista, medio + 1, final, objetivo)\n",
    "    else:\n",
    "        return busqueda_binaria(lista, comienzo, medio - 1, objetivo)"
   ]
  },
  {
   "cell_type": "code",
   "execution_count": 3,
   "id": "35ba8015",
   "metadata": {},
   "outputs": [
    {
     "name": "stdout",
     "output_type": "stream",
     "text": [
      "De que tamano es la lista? 70\n",
      "Que numero quieres encontrar? 20\n",
      "buscando 20 entre 0 y 100\n",
      "buscando 20 entre 0 y 46\n",
      "buscando 20 entre 0 y 25\n",
      "buscando 20 entre 11 y 25\n",
      "buscando 20 entre 23 y 25\n",
      "buscando 20 entre 23 y 17\n",
      "buscando 20 entre 23 y 16\n",
      "[0, 0, 5, 6, 7, 8, 8, 10, 11, 11, 15, 16, 17, 23, 24, 25, 25, 26, 26, 27, 29, 29, 29, 29, 30, 30, 32, 35, 37, 38, 40, 40, 45, 46, 49, 51, 52, 53, 56, 59, 59, 64, 66, 67, 69, 69, 72, 74, 74, 76, 81, 82, 83, 85, 86, 86, 90, 90, 91, 92, 94, 96, 96, 97, 97, 97, 99, 99, 99, 100]\n",
      "El elemento 20 no esta en la lista\n"
     ]
    }
   ],
   "source": [
    "tamano_de_lista = int(input('De que tamano es la lista? '))\n",
    "objetivo = int(input('Que numero quieres encontrar? '))\n",
    "\n",
    "lista = sorted([random.randint(0, 100) for i in range(tamano_de_lista)])\n",
    "encontrado = busqueda_binaria(lista, 0, len(lista), objetivo)\n",
    "\n",
    "print(lista)\n",
    "print(f'El elemento {objetivo} {\"esta\" if encontrado else \"no esta\"} en la lista')"
   ]
  },
  {
   "cell_type": "code",
   "execution_count": null,
   "id": "49f4176e",
   "metadata": {},
   "outputs": [],
   "source": []
  }
 ],
 "metadata": {
  "kernelspec": {
   "display_name": "Python 3 (ipykernel)",
   "language": "python",
   "name": "python3"
  },
  "language_info": {
   "codemirror_mode": {
    "name": "ipython",
    "version": 3
   },
   "file_extension": ".py",
   "mimetype": "text/x-python",
   "name": "python",
   "nbconvert_exporter": "python",
   "pygments_lexer": "ipython3",
   "version": "3.9.12"
  }
 },
 "nbformat": 4,
 "nbformat_minor": 5
}
