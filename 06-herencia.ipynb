{
 "cells": [
  {
   "cell_type": "code",
   "execution_count": 2,
   "id": "e88aed40",
   "metadata": {},
   "outputs": [],
   "source": [
    "class Rectangulo:\n",
    "    def __init__(self,base,altura):\n",
    "        self.base=base\n",
    "        self.altura=altura\n",
    "        \n",
    "    def area(self):\n",
    "        return self.base*self.altura\n",
    "\n",
    "class Cuadrado(Rectangulo):\n",
    "    \n",
    "    def __init__(self,lado):\n",
    "        super().__init__(lado,lado)\n",
    "\n"
   ]
  },
  {
   "cell_type": "code",
   "execution_count": 4,
   "id": "d810961b",
   "metadata": {},
   "outputs": [
    {
     "name": "stdout",
     "output_type": "stream",
     "text": [
      "12\n",
      "16\n"
     ]
    }
   ],
   "source": [
    "rectangulo=Rectangulo(3,4)\n",
    "print(rectangulo.area())\n",
    "cuadrado=Cuadrado(4)\n",
    "print(cuadrado.area())"
   ]
  }
 ],
 "metadata": {
  "kernelspec": {
   "display_name": "Python 3 (ipykernel)",
   "language": "python",
   "name": "python3"
  },
  "language_info": {
   "codemirror_mode": {
    "name": "ipython",
    "version": 3
   },
   "file_extension": ".py",
   "mimetype": "text/x-python",
   "name": "python",
   "nbconvert_exporter": "python",
   "pygments_lexer": "ipython3",
   "version": "3.9.12"
  }
 },
 "nbformat": 4,
 "nbformat_minor": 5
}
