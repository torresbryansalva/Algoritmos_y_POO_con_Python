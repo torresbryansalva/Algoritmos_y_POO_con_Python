{
 "cells": [
  {
   "cell_type": "code",
   "execution_count": 1,
   "id": "9c02f224",
   "metadata": {},
   "outputs": [],
   "source": [
    "import random\n"
   ]
  },
  {
   "cell_type": "code",
   "execution_count": 13,
   "id": "526afd83",
   "metadata": {},
   "outputs": [],
   "source": [
    "def ordenamiento_por_mezcla(lista):\n",
    "    if len(lista) >1:\n",
    "        medio=len(lista)//2\n",
    "        izquierda=lista[:medio]\n",
    "        derecha=lista[medio:]\n",
    "        \n",
    "        print(izquierda,'*'*5,derecha)\n",
    "        \n",
    "        #llamada recursiva en cada mitad\n",
    "        ordenamiento_por_mezcla(izquierda)\n",
    "        ordenamiento_por_mezcla(derecha)\n",
    "        \n",
    "        #iteradores para recorrer los dos sublistas\n",
    "        i=0\n",
    "        j=0\n",
    "        \n",
    "        #iterador principal para la lista\n",
    "        k=0\n",
    "        \n",
    "        while i<len(izquierda) and j<len(derecha):\n",
    "            if izquierda[i]<derecha[j]:\n",
    "                lista[k]=izquierda[i]\n",
    "                i=i+1\n",
    "            else:\n",
    "                lista[k]=derecha[j]\n",
    "                j=j+1\n",
    "            k=k+1\n",
    "        \n",
    "        while i<len(izquierda):\n",
    "            lista[k]=izquierda[i]\n",
    "            i=i+1\n",
    "            k=k+1\n",
    "        while j<len(derecha):\n",
    "            lista[k]=derecha[j]\n",
    "            j+=1\n",
    "            k+=1\n",
    "        print(f'izquierda{izquierda},derecha{derecha}')\n",
    "        print(lista)\n",
    "        print('-'*50)\n",
    "        return lista\n",
    "            "
   ]
  },
  {
   "cell_type": "code",
   "execution_count": 14,
   "id": "c6c00f95",
   "metadata": {},
   "outputs": [
    {
     "name": "stdout",
     "output_type": "stream",
     "text": [
      "ingrese el tamaño de la lista8\n",
      "[3, 79, 59, 61, 27, 62, 12, 83]\n",
      "[3, 79, 59, 61] ***** [27, 62, 12, 83]\n",
      "[3, 79] ***** [59, 61]\n",
      "[3] ***** [79]\n",
      "izquierda[3],derecha[79]\n",
      "[3, 79]\n",
      "--------------------------------------------------\n",
      "[59] ***** [61]\n",
      "izquierda[59],derecha[61]\n",
      "[59, 61]\n",
      "--------------------------------------------------\n",
      "izquierda[3, 79],derecha[59, 61]\n",
      "[3, 59, 61, 79]\n",
      "--------------------------------------------------\n",
      "[27, 62] ***** [12, 83]\n",
      "[27] ***** [62]\n",
      "izquierda[27],derecha[62]\n",
      "[27, 62]\n",
      "--------------------------------------------------\n",
      "[12] ***** [83]\n",
      "izquierda[12],derecha[83]\n",
      "[12, 83]\n",
      "--------------------------------------------------\n",
      "izquierda[27, 62],derecha[12, 83]\n",
      "[12, 27, 62, 83]\n",
      "--------------------------------------------------\n",
      "izquierda[3, 59, 61, 79],derecha[12, 27, 62, 83]\n",
      "[3, 12, 27, 59, 61, 62, 79, 83]\n",
      "--------------------------------------------------\n",
      "[3, 12, 27, 59, 61, 62, 79, 83]\n"
     ]
    }
   ],
   "source": [
    "tamano_lista=int(input('ingrese el tamaño de la lista'))\n",
    "\n",
    "lista=[random.randint(0,100)  for i in range(tamano_lista)]\n",
    "print(lista)\n",
    "\n",
    "lista_ordenada=ordenamiento_por_mezcla(lista)\n",
    "print(lista_ordenada)"
   ]
  },
  {
   "cell_type": "code",
   "execution_count": 6,
   "id": "2017917b",
   "metadata": {},
   "outputs": [
    {
     "data": {
      "text/plain": [
       "6.5"
      ]
     },
     "execution_count": 6,
     "metadata": {},
     "output_type": "execute_result"
    }
   ],
   "source": []
  },
  {
   "cell_type": "code",
   "execution_count": null,
   "id": "f1602e5e",
   "metadata": {},
   "outputs": [],
   "source": []
  }
 ],
 "metadata": {
  "kernelspec": {
   "display_name": "Python 3 (ipykernel)",
   "language": "python",
   "name": "python3"
  },
  "language_info": {
   "codemirror_mode": {
    "name": "ipython",
    "version": 3
   },
   "file_extension": ".py",
   "mimetype": "text/x-python",
   "name": "python",
   "nbconvert_exporter": "python",
   "pygments_lexer": "ipython3",
   "version": "3.9.12"
  }
 },
 "nbformat": 4,
 "nbformat_minor": 5
}
